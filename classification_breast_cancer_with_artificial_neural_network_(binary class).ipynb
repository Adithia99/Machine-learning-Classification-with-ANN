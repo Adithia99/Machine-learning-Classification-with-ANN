{
 "cells": [
  {
   "cell_type": "markdown",
   "metadata": {},
   "source": [
    "author ~ Adithia jovandy"
   ]
  },
  {
   "cell_type": "markdown",
   "metadata": {},
   "source": [
    "### Import Library"
   ]
  },
  {
   "cell_type": "code",
   "execution_count": 1,
   "metadata": {},
   "outputs": [
    {
     "name": "stderr",
     "output_type": "stream",
     "text": [
      "Using TensorFlow backend.\n"
     ]
    }
   ],
   "source": [
    "from sklearn.preprocessing import MinMaxScaler\n",
    "import matplotlib.pyplot as plt\n",
    "from sklearn.model_selection import train_test_split \n",
    "from keras.optimizers import Adam\n",
    "from keras.models import Sequential\n",
    "from keras.layers import Dense, Dropout\n",
    "from keras.activations import relu\n",
    "import pandas as pd\n",
    "import sklearn"
   ]
  },
  {
   "cell_type": "markdown",
   "metadata": {},
   "source": [
    "### Load Dataset"
   ]
  },
  {
   "cell_type": "code",
   "execution_count": 2,
   "metadata": {},
   "outputs": [],
   "source": [
    "dataset = pd.read_csv(\"C:/Users/Adithia Jo/Documents/Anaconda/Machine learning/ANN/09011181722012_Adithia_jovandy/breast_cancer_dataset.csv\")"
   ]
  },
  {
   "cell_type": "code",
   "execution_count": 3,
   "metadata": {},
   "outputs": [
    {
     "data": {
      "text/html": [
       "<div>\n",
       "<style scoped>\n",
       "    .dataframe tbody tr th:only-of-type {\n",
       "        vertical-align: middle;\n",
       "    }\n",
       "\n",
       "    .dataframe tbody tr th {\n",
       "        vertical-align: top;\n",
       "    }\n",
       "\n",
       "    .dataframe thead th {\n",
       "        text-align: right;\n",
       "    }\n",
       "</style>\n",
       "<table border=\"1\" class=\"dataframe\">\n",
       "  <thead>\n",
       "    <tr style=\"text-align: right;\">\n",
       "      <th></th>\n",
       "      <th>clump_thickness</th>\n",
       "      <th>uniformity_of_cell_size</th>\n",
       "      <th>uniformity_of_cell_shape</th>\n",
       "      <th>marginal_adhesion</th>\n",
       "      <th>single_epithelial_cell_size</th>\n",
       "      <th>bare_nuclei</th>\n",
       "      <th>bland_chromatin</th>\n",
       "      <th>normal_nucleoli</th>\n",
       "      <th>mitosis</th>\n",
       "      <th>class</th>\n",
       "    </tr>\n",
       "  </thead>\n",
       "  <tbody>\n",
       "    <tr>\n",
       "      <td>0</td>\n",
       "      <td>5</td>\n",
       "      <td>1</td>\n",
       "      <td>1</td>\n",
       "      <td>1</td>\n",
       "      <td>2</td>\n",
       "      <td>1</td>\n",
       "      <td>3</td>\n",
       "      <td>1</td>\n",
       "      <td>1</td>\n",
       "      <td>0</td>\n",
       "    </tr>\n",
       "    <tr>\n",
       "      <td>1</td>\n",
       "      <td>5</td>\n",
       "      <td>4</td>\n",
       "      <td>4</td>\n",
       "      <td>5</td>\n",
       "      <td>7</td>\n",
       "      <td>10</td>\n",
       "      <td>3</td>\n",
       "      <td>2</td>\n",
       "      <td>1</td>\n",
       "      <td>0</td>\n",
       "    </tr>\n",
       "    <tr>\n",
       "      <td>2</td>\n",
       "      <td>3</td>\n",
       "      <td>1</td>\n",
       "      <td>1</td>\n",
       "      <td>1</td>\n",
       "      <td>2</td>\n",
       "      <td>2</td>\n",
       "      <td>3</td>\n",
       "      <td>1</td>\n",
       "      <td>1</td>\n",
       "      <td>0</td>\n",
       "    </tr>\n",
       "    <tr>\n",
       "      <td>3</td>\n",
       "      <td>6</td>\n",
       "      <td>8</td>\n",
       "      <td>8</td>\n",
       "      <td>1</td>\n",
       "      <td>3</td>\n",
       "      <td>4</td>\n",
       "      <td>3</td>\n",
       "      <td>7</td>\n",
       "      <td>1</td>\n",
       "      <td>0</td>\n",
       "    </tr>\n",
       "    <tr>\n",
       "      <td>4</td>\n",
       "      <td>4</td>\n",
       "      <td>1</td>\n",
       "      <td>1</td>\n",
       "      <td>3</td>\n",
       "      <td>2</td>\n",
       "      <td>1</td>\n",
       "      <td>3</td>\n",
       "      <td>1</td>\n",
       "      <td>1</td>\n",
       "      <td>0</td>\n",
       "    </tr>\n",
       "    <tr>\n",
       "      <td>...</td>\n",
       "      <td>...</td>\n",
       "      <td>...</td>\n",
       "      <td>...</td>\n",
       "      <td>...</td>\n",
       "      <td>...</td>\n",
       "      <td>...</td>\n",
       "      <td>...</td>\n",
       "      <td>...</td>\n",
       "      <td>...</td>\n",
       "      <td>...</td>\n",
       "    </tr>\n",
       "    <tr>\n",
       "      <td>564</td>\n",
       "      <td>4</td>\n",
       "      <td>1</td>\n",
       "      <td>1</td>\n",
       "      <td>1</td>\n",
       "      <td>2</td>\n",
       "      <td>1</td>\n",
       "      <td>3</td>\n",
       "      <td>2</td>\n",
       "      <td>1</td>\n",
       "      <td>0</td>\n",
       "    </tr>\n",
       "    <tr>\n",
       "      <td>565</td>\n",
       "      <td>5</td>\n",
       "      <td>7</td>\n",
       "      <td>10</td>\n",
       "      <td>10</td>\n",
       "      <td>5</td>\n",
       "      <td>10</td>\n",
       "      <td>10</td>\n",
       "      <td>10</td>\n",
       "      <td>1</td>\n",
       "      <td>1</td>\n",
       "    </tr>\n",
       "    <tr>\n",
       "      <td>566</td>\n",
       "      <td>3</td>\n",
       "      <td>1</td>\n",
       "      <td>2</td>\n",
       "      <td>1</td>\n",
       "      <td>2</td>\n",
       "      <td>1</td>\n",
       "      <td>3</td>\n",
       "      <td>1</td>\n",
       "      <td>1</td>\n",
       "      <td>0</td>\n",
       "    </tr>\n",
       "    <tr>\n",
       "      <td>567</td>\n",
       "      <td>4</td>\n",
       "      <td>1</td>\n",
       "      <td>1</td>\n",
       "      <td>1</td>\n",
       "      <td>2</td>\n",
       "      <td>3</td>\n",
       "      <td>2</td>\n",
       "      <td>1</td>\n",
       "      <td>1</td>\n",
       "      <td>0</td>\n",
       "    </tr>\n",
       "    <tr>\n",
       "      <td>568</td>\n",
       "      <td>8</td>\n",
       "      <td>4</td>\n",
       "      <td>4</td>\n",
       "      <td>1</td>\n",
       "      <td>6</td>\n",
       "      <td>10</td>\n",
       "      <td>2</td>\n",
       "      <td>5</td>\n",
       "      <td>2</td>\n",
       "      <td>1</td>\n",
       "    </tr>\n",
       "  </tbody>\n",
       "</table>\n",
       "<p>569 rows × 10 columns</p>\n",
       "</div>"
      ],
      "text/plain": [
       "     clump_thickness  uniformity_of_cell_size  uniformity_of_cell_shape  \\\n",
       "0                  5                        1                         1   \n",
       "1                  5                        4                         4   \n",
       "2                  3                        1                         1   \n",
       "3                  6                        8                         8   \n",
       "4                  4                        1                         1   \n",
       "..               ...                      ...                       ...   \n",
       "564                4                        1                         1   \n",
       "565                5                        7                        10   \n",
       "566                3                        1                         2   \n",
       "567                4                        1                         1   \n",
       "568                8                        4                         4   \n",
       "\n",
       "     marginal_adhesion  single_epithelial_cell_size  bare_nuclei  \\\n",
       "0                    1                            2            1   \n",
       "1                    5                            7           10   \n",
       "2                    1                            2            2   \n",
       "3                    1                            3            4   \n",
       "4                    3                            2            1   \n",
       "..                 ...                          ...          ...   \n",
       "564                  1                            2            1   \n",
       "565                 10                            5           10   \n",
       "566                  1                            2            1   \n",
       "567                  1                            2            3   \n",
       "568                  1                            6           10   \n",
       "\n",
       "     bland_chromatin  normal_nucleoli  mitosis  class  \n",
       "0                  3                1        1      0  \n",
       "1                  3                2        1      0  \n",
       "2                  3                1        1      0  \n",
       "3                  3                7        1      0  \n",
       "4                  3                1        1      0  \n",
       "..               ...              ...      ...    ...  \n",
       "564                3                2        1      0  \n",
       "565               10               10        1      1  \n",
       "566                3                1        1      0  \n",
       "567                2                1        1      0  \n",
       "568                2                5        2      1  \n",
       "\n",
       "[569 rows x 10 columns]"
      ]
     },
     "execution_count": 3,
     "metadata": {},
     "output_type": "execute_result"
    }
   ],
   "source": [
    "dataset"
   ]
  },
  {
   "cell_type": "markdown",
   "metadata": {},
   "source": [
    "# Set data dan Target\n",
    "Set data untuk feature yaitu kolom 1-9, dan kolom 10 sebagai target"
   ]
  },
  {
   "cell_type": "code",
   "execution_count": 4,
   "metadata": {},
   "outputs": [],
   "source": [
    "data_raw = dataset.iloc[:,0:9].values\n",
    "target = dataset.iloc[:,9].values"
   ]
  },
  {
   "cell_type": "markdown",
   "metadata": {},
   "source": [
    "# Data Preprocessing\n",
    "### Scaling\n",
    "Karena dilihat pada persebaran data, agar data tidak memiliki standar deviasi yang tinggi, maka selanjutnya akan discaling, dimana nilai max adalah 1 dan minimal adalah 0 (minmax scalling)"
   ]
  },
  {
   "cell_type": "code",
   "execution_count": 5,
   "metadata": {
    "scrolled": true
   },
   "outputs": [
    {
     "data": {
      "text/html": [
       "<div>\n",
       "<style scoped>\n",
       "    .dataframe tbody tr th:only-of-type {\n",
       "        vertical-align: middle;\n",
       "    }\n",
       "\n",
       "    .dataframe tbody tr th {\n",
       "        vertical-align: top;\n",
       "    }\n",
       "\n",
       "    .dataframe thead th {\n",
       "        text-align: right;\n",
       "    }\n",
       "</style>\n",
       "<table border=\"1\" class=\"dataframe\">\n",
       "  <thead>\n",
       "    <tr style=\"text-align: right;\">\n",
       "      <th></th>\n",
       "      <th>0</th>\n",
       "      <th>1</th>\n",
       "      <th>2</th>\n",
       "      <th>3</th>\n",
       "      <th>4</th>\n",
       "      <th>5</th>\n",
       "      <th>6</th>\n",
       "      <th>7</th>\n",
       "      <th>8</th>\n",
       "    </tr>\n",
       "  </thead>\n",
       "  <tbody>\n",
       "    <tr>\n",
       "      <td>0</td>\n",
       "      <td>0.444444</td>\n",
       "      <td>0.000000</td>\n",
       "      <td>0.000000</td>\n",
       "      <td>0.000000</td>\n",
       "      <td>0.111111</td>\n",
       "      <td>0.99991</td>\n",
       "      <td>0.222222</td>\n",
       "      <td>0.000000</td>\n",
       "      <td>0.0</td>\n",
       "    </tr>\n",
       "    <tr>\n",
       "      <td>1</td>\n",
       "      <td>0.444444</td>\n",
       "      <td>0.333333</td>\n",
       "      <td>0.333333</td>\n",
       "      <td>0.444444</td>\n",
       "      <td>0.666667</td>\n",
       "      <td>1.00000</td>\n",
       "      <td>0.222222</td>\n",
       "      <td>0.111111</td>\n",
       "      <td>0.0</td>\n",
       "    </tr>\n",
       "    <tr>\n",
       "      <td>2</td>\n",
       "      <td>0.222222</td>\n",
       "      <td>0.000000</td>\n",
       "      <td>0.000000</td>\n",
       "      <td>0.000000</td>\n",
       "      <td>0.111111</td>\n",
       "      <td>0.99992</td>\n",
       "      <td>0.222222</td>\n",
       "      <td>0.000000</td>\n",
       "      <td>0.0</td>\n",
       "    </tr>\n",
       "    <tr>\n",
       "      <td>3</td>\n",
       "      <td>0.555556</td>\n",
       "      <td>0.777778</td>\n",
       "      <td>0.777778</td>\n",
       "      <td>0.000000</td>\n",
       "      <td>0.222222</td>\n",
       "      <td>0.99994</td>\n",
       "      <td>0.222222</td>\n",
       "      <td>0.666667</td>\n",
       "      <td>0.0</td>\n",
       "    </tr>\n",
       "    <tr>\n",
       "      <td>4</td>\n",
       "      <td>0.333333</td>\n",
       "      <td>0.000000</td>\n",
       "      <td>0.000000</td>\n",
       "      <td>0.222222</td>\n",
       "      <td>0.111111</td>\n",
       "      <td>0.99991</td>\n",
       "      <td>0.222222</td>\n",
       "      <td>0.000000</td>\n",
       "      <td>0.0</td>\n",
       "    </tr>\n",
       "  </tbody>\n",
       "</table>\n",
       "</div>"
      ],
      "text/plain": [
       "          0         1         2         3         4        5         6  \\\n",
       "0  0.444444  0.000000  0.000000  0.000000  0.111111  0.99991  0.222222   \n",
       "1  0.444444  0.333333  0.333333  0.444444  0.666667  1.00000  0.222222   \n",
       "2  0.222222  0.000000  0.000000  0.000000  0.111111  0.99992  0.222222   \n",
       "3  0.555556  0.777778  0.777778  0.000000  0.222222  0.99994  0.222222   \n",
       "4  0.333333  0.000000  0.000000  0.222222  0.111111  0.99991  0.222222   \n",
       "\n",
       "          7    8  \n",
       "0  0.000000  0.0  \n",
       "1  0.111111  0.0  \n",
       "2  0.000000  0.0  \n",
       "3  0.666667  0.0  \n",
       "4  0.000000  0.0  "
      ]
     },
     "execution_count": 5,
     "metadata": {},
     "output_type": "execute_result"
    }
   ],
   "source": [
    "scaler = MinMaxScaler()\n",
    "data = scaler.fit_transform(data_raw)\n",
    "\n",
    "#Buat Variabel data_dataframe hanya untuk menampilkan, selanjutnya variabel data akan tetap dalam bentuk numpy array\n",
    "data_dataframe = pd.DataFrame(data)\n",
    "data_dataframe.head()"
   ]
  },
  {
   "cell_type": "markdown",
   "metadata": {},
   "source": [
    "### Splitting\n",
    "Membagi data secara acak, dengan persentase 80% untuk data latih, 20% untuk data testing. Raandom state digunakan agar data yang sudah baik, tidak diacak lagi saat spliting, agar persebaran data tidak berubah, yang bisa mempengaruhi learning dari model."
   ]
  },
  {
   "cell_type": "code",
   "execution_count": 6,
   "metadata": {},
   "outputs": [],
   "source": [
    "data_training, data_testing, target_training, target_testing = train_test_split(data_raw, target, test_size=0.2, random_state=42)"
   ]
  },
  {
   "cell_type": "markdown",
   "metadata": {},
   "source": [
    "# ANN\n",
    "### MODEL\n",
    "Menggunakan 1 input layer dengan 9 neuron, 1 hidden layer dengan 30 neuron (fungsi aktivasi relu), dan 1 output layer dengan 1 neuron (fungsi aktivasi sigmoid)."
   ]
  },
  {
   "cell_type": "code",
   "execution_count": 7,
   "metadata": {},
   "outputs": [],
   "source": [
    "model = Sequential()\n",
    "model.add(Dense(30, input_dim=9, activation='relu'))\n",
    "model.add(Dense(1, activation='sigmoid'))"
   ]
  },
  {
   "cell_type": "markdown",
   "metadata": {},
   "source": [
    "### Compile Data\n",
    "Menggunakan loss Mean Square Error, dan metric Akurasi sebagai parameternya"
   ]
  },
  {
   "cell_type": "code",
   "execution_count": 8,
   "metadata": {},
   "outputs": [],
   "source": [
    "model.compile(optimizer='adam', loss='mse', metrics=['accuracy'])"
   ]
  },
  {
   "cell_type": "markdown",
   "metadata": {},
   "source": [
    "# FIT\n",
    "Proses training model. Disini akan dilakukan training model, dimana JST akan melakukan learning berdasarkan data latih yaitu **data_training** (feature) dan **target_training** (target). Disini juga dilakukan validasi dengan data uji, ditampung pada variabel **data_testing** (feature) dan **target_testing** (target). Guna dilakukan FIT adalah agar setiap epochnya dapat ditampung dalam variabel **history_validasi**, sehingga bisa diplot perubahannya."
   ]
  },
  {
   "cell_type": "code",
   "execution_count": 9,
   "metadata": {},
   "outputs": [
    {
     "name": "stdout",
     "output_type": "stream",
     "text": [
      "WARNING:tensorflow:From C:\\ProgramData\\Anaconda3\\lib\\site-packages\\keras\\backend\\tensorflow_backend.py:422: The name tf.global_variables is deprecated. Please use tf.compat.v1.global_variables instead.\n",
      "\n",
      "Train on 455 samples, validate on 114 samples\n",
      "Epoch 1/100\n",
      "455/455 [==============================] - 0s 435us/step - loss: 0.2574 - accuracy: 0.7011 - val_loss: 0.1946 - val_accuracy: 0.7632\n",
      "Epoch 2/100\n",
      "455/455 [==============================] - 0s 57us/step - loss: 0.2002 - accuracy: 0.7407 - val_loss: 0.1796 - val_accuracy: 0.7895\n",
      "Epoch 3/100\n",
      "455/455 [==============================] - 0s 62us/step - loss: 0.1754 - accuracy: 0.7934 - val_loss: 0.1526 - val_accuracy: 0.8596\n",
      "Epoch 4/100\n",
      "455/455 [==============================] - 0s 75us/step - loss: 0.1554 - accuracy: 0.8440 - val_loss: 0.1370 - val_accuracy: 0.8596\n",
      "Epoch 5/100\n",
      "455/455 [==============================] - 0s 62us/step - loss: 0.1399 - accuracy: 0.8681 - val_loss: 0.1240 - val_accuracy: 0.8596\n",
      "Epoch 6/100\n",
      "455/455 [==============================] - 0s 66us/step - loss: 0.1267 - accuracy: 0.8835 - val_loss: 0.1146 - val_accuracy: 0.8596\n",
      "Epoch 7/100\n",
      "455/455 [==============================] - 0s 62us/step - loss: 0.1182 - accuracy: 0.8901 - val_loss: 0.1069 - val_accuracy: 0.8772\n",
      "Epoch 8/100\n",
      "455/455 [==============================] - 0s 66us/step - loss: 0.1109 - accuracy: 0.8945 - val_loss: 0.1022 - val_accuracy: 0.8860\n",
      "Epoch 9/100\n",
      "455/455 [==============================] - 0s 66us/step - loss: 0.1054 - accuracy: 0.9055 - val_loss: 0.0980 - val_accuracy: 0.8860\n",
      "Epoch 10/100\n",
      "455/455 [==============================] - 0s 71us/step - loss: 0.1014 - accuracy: 0.9143 - val_loss: 0.0953 - val_accuracy: 0.8860\n",
      "Epoch 11/100\n",
      "455/455 [==============================] - 0s 71us/step - loss: 0.0969 - accuracy: 0.9099 - val_loss: 0.0874 - val_accuracy: 0.9298\n",
      "Epoch 12/100\n",
      "455/455 [==============================] - 0s 68us/step - loss: 0.0942 - accuracy: 0.9143 - val_loss: 0.0863 - val_accuracy: 0.9386\n",
      "Epoch 13/100\n",
      "455/455 [==============================] - 0s 62us/step - loss: 0.0914 - accuracy: 0.9143 - val_loss: 0.0827 - val_accuracy: 0.9474\n",
      "Epoch 14/100\n",
      "455/455 [==============================] - 0s 64us/step - loss: 0.0883 - accuracy: 0.9143 - val_loss: 0.0807 - val_accuracy: 0.9474\n",
      "Epoch 15/100\n",
      "455/455 [==============================] - 0s 68us/step - loss: 0.0859 - accuracy: 0.9165 - val_loss: 0.0769 - val_accuracy: 0.9474\n",
      "Epoch 16/100\n",
      "455/455 [==============================] - 0s 71us/step - loss: 0.0841 - accuracy: 0.9165 - val_loss: 0.0750 - val_accuracy: 0.9474\n",
      "Epoch 17/100\n",
      "455/455 [==============================] - 0s 68us/step - loss: 0.0824 - accuracy: 0.9209 - val_loss: 0.0742 - val_accuracy: 0.9474\n",
      "Epoch 18/100\n",
      "455/455 [==============================] - ETA: 0s - loss: 0.1104 - accuracy: 0.90 - 0s 66us/step - loss: 0.0807 - accuracy: 0.9165 - val_loss: 0.0704 - val_accuracy: 0.9474\n",
      "Epoch 19/100\n",
      "455/455 [==============================] - 0s 66us/step - loss: 0.0789 - accuracy: 0.9187 - val_loss: 0.0709 - val_accuracy: 0.9561\n",
      "Epoch 20/100\n",
      "455/455 [==============================] - 0s 68us/step - loss: 0.0769 - accuracy: 0.9187 - val_loss: 0.0666 - val_accuracy: 0.9474\n",
      "Epoch 21/100\n",
      "455/455 [==============================] - 0s 73us/step - loss: 0.0753 - accuracy: 0.9187 - val_loss: 0.0655 - val_accuracy: 0.9474\n",
      "Epoch 22/100\n",
      "455/455 [==============================] - 0s 71us/step - loss: 0.0748 - accuracy: 0.9165 - val_loss: 0.0647 - val_accuracy: 0.9649\n",
      "Epoch 23/100\n",
      "455/455 [==============================] - 0s 68us/step - loss: 0.0723 - accuracy: 0.9253 - val_loss: 0.0605 - val_accuracy: 0.9474\n",
      "Epoch 24/100\n",
      "455/455 [==============================] - 0s 68us/step - loss: 0.0706 - accuracy: 0.9209 - val_loss: 0.0592 - val_accuracy: 0.9649\n",
      "Epoch 25/100\n",
      "455/455 [==============================] - 0s 68us/step - loss: 0.0691 - accuracy: 0.9275 - val_loss: 0.0577 - val_accuracy: 0.9649\n",
      "Epoch 26/100\n",
      "455/455 [==============================] - 0s 66us/step - loss: 0.0678 - accuracy: 0.9231 - val_loss: 0.0551 - val_accuracy: 0.9474\n",
      "Epoch 27/100\n",
      "455/455 [==============================] - 0s 64us/step - loss: 0.0674 - accuracy: 0.9231 - val_loss: 0.0554 - val_accuracy: 0.9561\n",
      "Epoch 28/100\n",
      "455/455 [==============================] - 0s 71us/step - loss: 0.0651 - accuracy: 0.9297 - val_loss: 0.0523 - val_accuracy: 0.9561\n",
      "Epoch 29/100\n",
      "455/455 [==============================] - 0s 59us/step - loss: 0.0645 - accuracy: 0.9231 - val_loss: 0.0500 - val_accuracy: 0.9649\n",
      "Epoch 30/100\n",
      "455/455 [==============================] - 0s 59us/step - loss: 0.0629 - accuracy: 0.9275 - val_loss: 0.0503 - val_accuracy: 0.9561\n",
      "Epoch 31/100\n",
      "455/455 [==============================] - 0s 64us/step - loss: 0.0621 - accuracy: 0.9363 - val_loss: 0.0486 - val_accuracy: 0.9561\n",
      "Epoch 32/100\n",
      "455/455 [==============================] - 0s 64us/step - loss: 0.0602 - accuracy: 0.9363 - val_loss: 0.0456 - val_accuracy: 0.9561\n",
      "Epoch 33/100\n",
      "455/455 [==============================] - 0s 68us/step - loss: 0.0594 - accuracy: 0.9341 - val_loss: 0.0444 - val_accuracy: 0.9561\n",
      "Epoch 34/100\n",
      "455/455 [==============================] - 0s 66us/step - loss: 0.0576 - accuracy: 0.9385 - val_loss: 0.0428 - val_accuracy: 0.9561\n",
      "Epoch 35/100\n",
      "455/455 [==============================] - 0s 59us/step - loss: 0.0569 - accuracy: 0.9451 - val_loss: 0.0426 - val_accuracy: 0.9561\n",
      "Epoch 36/100\n",
      "455/455 [==============================] - 0s 62us/step - loss: 0.0562 - accuracy: 0.9451 - val_loss: 0.0400 - val_accuracy: 0.9561\n",
      "Epoch 37/100\n",
      "455/455 [==============================] - 0s 75us/step - loss: 0.0561 - accuracy: 0.9407 - val_loss: 0.0423 - val_accuracy: 0.9649\n",
      "Epoch 38/100\n",
      "455/455 [==============================] - 0s 66us/step - loss: 0.0526 - accuracy: 0.9582 - val_loss: 0.0354 - val_accuracy: 0.9649\n",
      "Epoch 39/100\n",
      "455/455 [==============================] - 0s 57us/step - loss: 0.0520 - accuracy: 0.9516 - val_loss: 0.0361 - val_accuracy: 0.9649\n",
      "Epoch 40/100\n",
      "455/455 [==============================] - 0s 64us/step - loss: 0.0505 - accuracy: 0.9538 - val_loss: 0.0348 - val_accuracy: 0.9649\n",
      "Epoch 41/100\n",
      "455/455 [==============================] - 0s 55us/step - loss: 0.0499 - accuracy: 0.9604 - val_loss: 0.0343 - val_accuracy: 0.9649\n",
      "Epoch 42/100\n",
      "455/455 [==============================] - 0s 62us/step - loss: 0.0485 - accuracy: 0.9604 - val_loss: 0.0334 - val_accuracy: 0.9649\n",
      "Epoch 43/100\n",
      "455/455 [==============================] - 0s 62us/step - loss: 0.0475 - accuracy: 0.9604 - val_loss: 0.0338 - val_accuracy: 0.9649\n",
      "Epoch 44/100\n",
      "455/455 [==============================] - 0s 59us/step - loss: 0.0466 - accuracy: 0.9604 - val_loss: 0.0332 - val_accuracy: 0.9649\n",
      "Epoch 45/100\n",
      "455/455 [==============================] - 0s 59us/step - loss: 0.0457 - accuracy: 0.9626 - val_loss: 0.0334 - val_accuracy: 0.9649\n",
      "Epoch 46/100\n",
      "455/455 [==============================] - 0s 59us/step - loss: 0.0453 - accuracy: 0.9604 - val_loss: 0.0314 - val_accuracy: 0.9649\n",
      "Epoch 47/100\n",
      "455/455 [==============================] - 0s 59us/step - loss: 0.0442 - accuracy: 0.9648 - val_loss: 0.0314 - val_accuracy: 0.9649\n",
      "Epoch 48/100\n",
      "455/455 [==============================] - 0s 62us/step - loss: 0.0436 - accuracy: 0.9604 - val_loss: 0.0297 - val_accuracy: 0.9649\n",
      "Epoch 49/100\n",
      "455/455 [==============================] - 0s 64us/step - loss: 0.0426 - accuracy: 0.9626 - val_loss: 0.0313 - val_accuracy: 0.9649\n",
      "Epoch 50/100\n",
      "455/455 [==============================] - 0s 62us/step - loss: 0.0423 - accuracy: 0.9670 - val_loss: 0.0307 - val_accuracy: 0.9649\n",
      "Epoch 51/100\n",
      "455/455 [==============================] - 0s 62us/step - loss: 0.0413 - accuracy: 0.9648 - val_loss: 0.0290 - val_accuracy: 0.9649\n",
      "Epoch 52/100\n",
      "455/455 [==============================] - 0s 64us/step - loss: 0.0407 - accuracy: 0.9626 - val_loss: 0.0292 - val_accuracy: 0.9737\n",
      "Epoch 53/100\n",
      "455/455 [==============================] - 0s 59us/step - loss: 0.0403 - accuracy: 0.9648 - val_loss: 0.0288 - val_accuracy: 0.9649\n",
      "Epoch 54/100\n",
      "455/455 [==============================] - 0s 57us/step - loss: 0.0399 - accuracy: 0.9670 - val_loss: 0.0286 - val_accuracy: 0.9649\n",
      "Epoch 55/100\n",
      "455/455 [==============================] - 0s 59us/step - loss: 0.0391 - accuracy: 0.9648 - val_loss: 0.0280 - val_accuracy: 0.9649\n",
      "Epoch 56/100\n",
      "455/455 [==============================] - 0s 59us/step - loss: 0.0385 - accuracy: 0.9670 - val_loss: 0.0271 - val_accuracy: 0.9649\n",
      "Epoch 57/100\n",
      "455/455 [==============================] - 0s 59us/step - loss: 0.0381 - accuracy: 0.9648 - val_loss: 0.0271 - val_accuracy: 0.9649\n",
      "Epoch 58/100\n",
      "455/455 [==============================] - 0s 59us/step - loss: 0.0375 - accuracy: 0.9670 - val_loss: 0.0274 - val_accuracy: 0.9649\n",
      "Epoch 59/100\n",
      "455/455 [==============================] - 0s 62us/step - loss: 0.0374 - accuracy: 0.9648 - val_loss: 0.0264 - val_accuracy: 0.9649\n",
      "Epoch 60/100\n",
      "455/455 [==============================] - 0s 66us/step - loss: 0.0370 - accuracy: 0.9692 - val_loss: 0.0272 - val_accuracy: 0.9649\n",
      "Epoch 61/100\n",
      "455/455 [==============================] - 0s 68us/step - loss: 0.0359 - accuracy: 0.9670 - val_loss: 0.0256 - val_accuracy: 0.9737\n",
      "Epoch 62/100\n",
      "455/455 [==============================] - 0s 66us/step - loss: 0.0356 - accuracy: 0.9692 - val_loss: 0.0268 - val_accuracy: 0.9649\n",
      "Epoch 63/100\n",
      "455/455 [==============================] - 0s 62us/step - loss: 0.0353 - accuracy: 0.9692 - val_loss: 0.0260 - val_accuracy: 0.9737\n",
      "Epoch 64/100\n",
      "455/455 [==============================] - 0s 57us/step - loss: 0.0347 - accuracy: 0.9670 - val_loss: 0.0255 - val_accuracy: 0.9737\n",
      "Epoch 65/100\n",
      "455/455 [==============================] - 0s 57us/step - loss: 0.0342 - accuracy: 0.9692 - val_loss: 0.0254 - val_accuracy: 0.9737\n",
      "Epoch 66/100\n",
      "455/455 [==============================] - 0s 62us/step - loss: 0.0338 - accuracy: 0.9692 - val_loss: 0.0253 - val_accuracy: 0.9737\n",
      "Epoch 67/100\n",
      "455/455 [==============================] - 0s 57us/step - loss: 0.0334 - accuracy: 0.9670 - val_loss: 0.0257 - val_accuracy: 0.9737\n",
      "Epoch 68/100\n",
      "455/455 [==============================] - 0s 60us/step - loss: 0.0339 - accuracy: 0.9736 - val_loss: 0.0252 - val_accuracy: 0.9737\n",
      "Epoch 69/100\n",
      "455/455 [==============================] - 0s 66us/step - loss: 0.0327 - accuracy: 0.9692 - val_loss: 0.0245 - val_accuracy: 0.9737\n",
      "Epoch 70/100\n",
      "455/455 [==============================] - 0s 64us/step - loss: 0.0322 - accuracy: 0.9714 - val_loss: 0.0248 - val_accuracy: 0.9737\n",
      "Epoch 71/100\n",
      "455/455 [==============================] - 0s 62us/step - loss: 0.0318 - accuracy: 0.9714 - val_loss: 0.0253 - val_accuracy: 0.9737\n",
      "Epoch 72/100\n",
      "455/455 [==============================] - 0s 62us/step - loss: 0.0314 - accuracy: 0.9758 - val_loss: 0.0241 - val_accuracy: 0.9737\n",
      "Epoch 73/100\n",
      "455/455 [==============================] - 0s 57us/step - loss: 0.0312 - accuracy: 0.9758 - val_loss: 0.0244 - val_accuracy: 0.9737\n",
      "Epoch 74/100\n",
      "455/455 [==============================] - 0s 62us/step - loss: 0.0310 - accuracy: 0.9736 - val_loss: 0.0243 - val_accuracy: 0.9737\n",
      "Epoch 75/100\n",
      "455/455 [==============================] - 0s 62us/step - loss: 0.0303 - accuracy: 0.9736 - val_loss: 0.0248 - val_accuracy: 0.9737\n",
      "Epoch 76/100\n",
      "455/455 [==============================] - 0s 62us/step - loss: 0.0297 - accuracy: 0.9758 - val_loss: 0.0247 - val_accuracy: 0.9737\n",
      "Epoch 77/100\n",
      "455/455 [==============================] - 0s 66us/step - loss: 0.0295 - accuracy: 0.9736 - val_loss: 0.0248 - val_accuracy: 0.9737\n",
      "Epoch 78/100\n",
      "455/455 [==============================] - 0s 62us/step - loss: 0.0289 - accuracy: 0.9736 - val_loss: 0.0246 - val_accuracy: 0.9737\n",
      "Epoch 79/100\n",
      "455/455 [==============================] - 0s 59us/step - loss: 0.0287 - accuracy: 0.9736 - val_loss: 0.0247 - val_accuracy: 0.9737\n",
      "Epoch 80/100\n",
      "455/455 [==============================] - 0s 59us/step - loss: 0.0285 - accuracy: 0.9758 - val_loss: 0.0248 - val_accuracy: 0.9737\n",
      "Epoch 81/100\n",
      "455/455 [==============================] - 0s 59us/step - loss: 0.0280 - accuracy: 0.9758 - val_loss: 0.0249 - val_accuracy: 0.9737\n",
      "Epoch 82/100\n",
      "455/455 [==============================] - 0s 60us/step - loss: 0.0276 - accuracy: 0.9758 - val_loss: 0.0252 - val_accuracy: 0.9737\n",
      "Epoch 83/100\n",
      "455/455 [==============================] - 0s 64us/step - loss: 0.0271 - accuracy: 0.9758 - val_loss: 0.0254 - val_accuracy: 0.9737\n",
      "Epoch 84/100\n",
      "455/455 [==============================] - 0s 62us/step - loss: 0.0268 - accuracy: 0.9758 - val_loss: 0.0254 - val_accuracy: 0.9737\n",
      "Epoch 85/100\n",
      "455/455 [==============================] - 0s 60us/step - loss: 0.0266 - accuracy: 0.9780 - val_loss: 0.0257 - val_accuracy: 0.9737\n",
      "Epoch 86/100\n",
      "455/455 [==============================] - 0s 59us/step - loss: 0.0260 - accuracy: 0.9758 - val_loss: 0.0259 - val_accuracy: 0.9737\n",
      "Epoch 87/100\n",
      "455/455 [==============================] - 0s 62us/step - loss: 0.0261 - accuracy: 0.9758 - val_loss: 0.0265 - val_accuracy: 0.9737\n",
      "Epoch 88/100\n",
      "455/455 [==============================] - 0s 60us/step - loss: 0.0257 - accuracy: 0.9758 - val_loss: 0.0268 - val_accuracy: 0.9737\n",
      "Epoch 89/100\n",
      "455/455 [==============================] - 0s 57us/step - loss: 0.0255 - accuracy: 0.9758 - val_loss: 0.0272 - val_accuracy: 0.9737\n",
      "Epoch 90/100\n",
      "455/455 [==============================] - 0s 59us/step - loss: 0.0248 - accuracy: 0.9824 - val_loss: 0.0286 - val_accuracy: 0.9561\n",
      "Epoch 91/100\n",
      "455/455 [==============================] - 0s 59us/step - loss: 0.0250 - accuracy: 0.9824 - val_loss: 0.0269 - val_accuracy: 0.9737\n",
      "Epoch 92/100\n",
      "455/455 [==============================] - ETA: 0s - loss: 0.0135 - accuracy: 1.00 - 0s 62us/step - loss: 0.0241 - accuracy: 0.9780 - val_loss: 0.0270 - val_accuracy: 0.9649\n",
      "Epoch 93/100\n",
      "455/455 [==============================] - 0s 62us/step - loss: 0.0250 - accuracy: 0.9758 - val_loss: 0.0266 - val_accuracy: 0.9737\n",
      "Epoch 94/100\n",
      "455/455 [==============================] - 0s 57us/step - loss: 0.0235 - accuracy: 0.9802 - val_loss: 0.0275 - val_accuracy: 0.9649\n",
      "Epoch 95/100\n",
      "455/455 [==============================] - 0s 59us/step - loss: 0.0236 - accuracy: 0.9802 - val_loss: 0.0263 - val_accuracy: 0.9737\n",
      "Epoch 96/100\n",
      "455/455 [==============================] - 0s 60us/step - loss: 0.0232 - accuracy: 0.9802 - val_loss: 0.0266 - val_accuracy: 0.9649\n",
      "Epoch 97/100\n",
      "455/455 [==============================] - 0s 59us/step - loss: 0.0226 - accuracy: 0.9802 - val_loss: 0.0269 - val_accuracy: 0.9649\n",
      "Epoch 98/100\n",
      "455/455 [==============================] - 0s 57us/step - loss: 0.0223 - accuracy: 0.9824 - val_loss: 0.0261 - val_accuracy: 0.9737\n",
      "Epoch 99/100\n",
      "455/455 [==============================] - 0s 59us/step - loss: 0.0220 - accuracy: 0.9802 - val_loss: 0.0272 - val_accuracy: 0.9737\n",
      "Epoch 100/100\n",
      "455/455 [==============================] - 0s 57us/step - loss: 0.0221 - accuracy: 0.9802 - val_loss: 0.0263 - val_accuracy: 0.9737\n"
     ]
    }
   ],
   "source": [
    "history_validasi = model.fit(data_training,target_training, validation_data=(data_testing,target_testing), epochs=100)"
   ]
  },
  {
   "cell_type": "markdown",
   "metadata": {},
   "source": [
    "### Perhitungan Akurasi\n",
    "Evaluasi dengan mencari skor data testing atau akurasi data testing. Nilai evaluasi disimpan pada variabel **scores**."
   ]
  },
  {
   "cell_type": "code",
   "execution_count": 10,
   "metadata": {},
   "outputs": [
    {
     "name": "stdout",
     "output_type": "stream",
     "text": [
      "114/114 [==============================] - 0s 53us/step\n",
      "Akurasi data Testing = 97.37%\n"
     ]
    }
   ],
   "source": [
    "scores = model.evaluate(data_testing, target_testing)\n",
    "print(\"Akurasi data Testing = %.2f%%\" % (scores[1]*100))"
   ]
  },
  {
   "cell_type": "markdown",
   "metadata": {},
   "source": [
    "## Validasi Model"
   ]
  },
  {
   "cell_type": "markdown",
   "metadata": {},
   "source": [
    "### Plot akurasi model\n",
    "Evaluasi akurasi model, dibuat plot yang menunjukan perbandingan dari hasil learning pada data uji dan data latih"
   ]
  },
  {
   "cell_type": "code",
   "execution_count": 12,
   "metadata": {},
   "outputs": [
    {
     "data": {
      "image/png": "[encoded data removed]",
      "text/plain": [
       "<Figure size 432x288 with 1 Axes>"
      ]
     },
     "metadata": {
      "needs_background": "light"
     },
     "output_type": "display_data"
    }
   ],
   "source": [
    "plt.plot(history_validasi.history['accuracy'])\n",
    "plt.plot(history_validasi.history['val_accuracy'])\n",
    "plt.title('model accuracy')\n",
    "plt.ylabel('Akurasi')\n",
    "plt.xlabel('Epoch')\n",
    "plt.legend(['Data Latih', 'Data Testing'], loc='upper left')\n",
    "plt.show()"
   ]
  },
  {
   "cell_type": "markdown",
   "metadata": {},
   "source": [
    "### Plot Loss\n",
    "Evaluasi loss/error model, dibuat plot yang menunjukan perbandingan dari hasil learning pada data uji dan data latih"
   ]
  },
  {
   "cell_type": "code",
   "execution_count": 13,
   "metadata": {},
   "outputs": [
    {
     "data": {
      "image/png": "[encoded data removed]",
      "text/plain": [
       "<Figure size 432x288 with 1 Axes>"
      ]
     },
     "metadata": {
      "needs_background": "light"
     },
     "output_type": "display_data"
    }
   ],
   "source": [
    "plt.plot(history_validasi.history['loss'])\n",
    "plt.plot(history_validasi.history['val_loss'])\n",
    "plt.title('Model Loss')\n",
    "plt.ylabel('Loss')\n",
    "plt.xlabel('Epoch')\n",
    "plt.legend(['Data Latih', 'Data Testing'], loc='upper left')\n",
    "plt.show()"
   ]
  },
  {
   "cell_type": "markdown",
   "metadata": {},
   "source": [
    "### Confussion Matrix"
   ]
  },
  {
   "cell_type": "markdown",
   "metadata": {},
   "source": [
    "Selanjutnya untuk mengevaluasi hasil prediksi, akan dibuat confussion matriks. Fungsinya untuk melihat hasil prediksi, yang akan digolongkan menjadi beberapa kategori. Karena klasifikasinya adalah binary (1 dan 0) maka ada 4 kemungkinan prediksi yaitu True Positive, False Positive, False Negative, True Negative. Berikut ditampilkan hasil dari setiap klasifikasinya. Pertama adalah menampun isi dari prediksi pada variabel prediction"
   ]
  },
  {
   "cell_type": "code",
   "execution_count": 14,
   "metadata": {},
   "outputs": [],
   "source": [
    "prediction = model.predict_classes(data_testing)"
   ]
  },
  {
   "cell_type": "code",
   "execution_count": 15,
   "metadata": {},
   "outputs": [
    {
     "name": "stdout",
     "output_type": "stream",
     "text": [
      "Confussion matriks:\n",
      " [[82  2]\n",
      " [ 1 29]]\n",
      "Jumlah True Positive:  82\n",
      "Jumlah True Negative:  29\n",
      "Jumlah False Positive:  2\n",
      "Jumlah False Negative:  1\n"
     ]
    }
   ],
   "source": [
    "from sklearn.metrics import confusion_matrix\n",
    "prediction = model.predict_classes(data_testing)\n",
    "cm = confusion_matrix(target_testing, prediction)\n",
    "tp = cm[0,0]\n",
    "tn = cm[1,1]\n",
    "fp = cm[0,1]\n",
    "fn = cm[1,0]\n",
    "print (\"Confussion matriks:\\n\",cm)\n",
    "print (\"Jumlah True Positive: \", tp)\n",
    "print (\"Jumlah True Negative: \", tn)\n",
    "print (\"Jumlah False Positive: \", fp)\n",
    "print (\"Jumlah False Negative: \", fn)"
   ]
  },
  {
   "cell_type": "markdown",
   "metadata": {},
   "source": [
    "## mencari nilai evaluasi "
   ]
  },
  {
   "cell_type": "code",
   "execution_count": 16,
   "metadata": {},
   "outputs": [
    {
     "name": "stdout",
     "output_type": "stream",
     "text": [
      "precesion :  0.9761904761904762\n",
      "recall :  0.9879518072289156\n",
      "F1 :  0.9820359281437125\n",
      "spec :  0.9354838709677419\n",
      "sensitivity :  0.9879518072289156\n",
      "akurasi :  0.9736842105263158\n"
     ]
    }
   ],
   "source": [
    "precision = tp / ( tp + fp)\n",
    "recall = tp/(tp+fn)\n",
    "f1=(2*precision*recall)/ (precision+recall)\n",
    "akurasi = (tp+tn)/(tp+tn+fp+fn)\n",
    "spec = tn / (tn+fp)\n",
    "Sensitivity = tp/(tp + fn)\n",
    "\n",
    "#menampilkan\n",
    "print (\"precesion : \",precision)\n",
    "print(\"recall : \",recall)\n",
    "print (\"F1 : \",f1)\n",
    "print(\"spec : \",spec)\n",
    "print(\"sensitivity : \",Sensitivity )\n",
    "print(\"akurasi : \",akurasi)"
   ]
  },
  {
   "cell_type": "markdown",
   "metadata": {},
   "source": [
    "## Visualisasi ROC\n",
    "ROC digunakan untuk melihat perbadingan antara Sensitivitas dan Spesifisitas. Dalam kurva ROC, tingkat positif yang sesungguhnya (Sensitivitas) diplot dalam fungsi tingkat positif palsu (100-Spesifitas) untuk titik potong yang berbeda dari suatu parameter. Setiap titik pada kurva ROC mewakili pasangan sensitivitas / spesifisitas yang sesuai dengan ambang keputusan tertentu. Area di bawah kurva ROC (AUC) adalah ukuran seberapa baik parameter dapat membedakan antara dua kelompok diagnostik (berpenyakit / normal)."
   ]
  },
  {
   "cell_type": "code",
   "execution_count": 21,
   "metadata": {},
   "outputs": [
    {
     "data": {
      "image/png": "[encoded data removed]",
      "text/plain": [
       "<Figure size 432x288 with 1 Axes>"
      ]
     },
     "metadata": {
      "needs_background": "light"
     },
     "output_type": "display_data"
    }
   ],
   "source": [
    "fpr, tpr, threshold = sklearn.metrics.roc_curve(target_testing, prediction)\n",
    "roc_auc = sklearn.metrics.auc(fpr, tpr)\n",
    "plt.title('Receiver Operating Characteristic (Test)')\n",
    "plt.plot(fpr, tpr, 'b', label = 'AUC = %0.2f' % roc_auc)\n",
    "plt.legend(loc = 'lower right')\n",
    "plt.plot([0, 1], [0, 1],'r--')\n",
    "plt.xlim([0, 1])\n",
    "plt.ylim([0, 1])\n",
    "plt.ylabel('Sensitivity (True Positive Rate)')\n",
    "plt.xlabel('Spesificity (False Positive Rate)')\n",
    "plt.show()"
   ]
  },
  {
   "cell_type": "code",
   "execution_count": null,
   "metadata": {},
   "outputs": [],
   "source": []
  }
 ],
 "metadata": {
  "kernelspec": {
   "display_name": "Python 3",
   "language": "python",
   "name": "python3"
  },
  "language_info": {
   "codemirror_mode": {
    "name": "ipython",
    "version": 3
   },
   "file_extension": ".py",
   "mimetype": "text/x-python",
   "name": "python",
   "nbconvert_exporter": "python",
   "pygments_lexer": "ipython3",
   "version": "3.7.4"
  }
 },
 "nbformat": 4,
 "nbformat_minor": 2
}
